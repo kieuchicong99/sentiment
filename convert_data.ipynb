{
 "cells": [
  {
   "cell_type": "code",
   "execution_count": 10,
   "metadata": {},
   "outputs": [],
   "source": [
    "try:\n",
    "    with open('student_manual.train.txt') as f:\n",
    "        f1 = open(\"out.txt\", \"w\")\n",
    "        fl1 = open(\"label_1.txt\", \"w\")\n",
    "        fl2 = open(\"label_2.txt\", \"w\")\n",
    "        fl3 = open(\"label_3.txt\", \"w\")\n",
    "        fl4 = open(\"label_4.txt\", \"w\")\n",
    "        fl5 = open(\"label_5.txt\", \"w\")\n",
    "        while True:\n",
    "            line1 = f.readline().strip()\n",
    "            line2 = f.readline().strip()[4:]\n",
    "            if line1 and len(line1)>1 : \n",
    "                out = '__label__'+line2 +'\t'+line1+'\\n'\n",
    "                if line2 =='1':\n",
    "                    fl1.write(out)\n",
    "                if line2 =='2':\n",
    "                    fl2.write(out)\n",
    "                if line2 =='3':\n",
    "                    fl3.write(out)\n",
    "                if line2 =='4':\n",
    "                    fl4.write(out)\n",
    "                if line2 =='5':\n",
    "                    fl5.write(out)\n",
    "                f1.write(out)                \n",
    "#                 print(out)\n",
    "            if not line1: \n",
    "                f1.close()\n",
    "                f.close()\n",
    "                fl1.close()\n",
    "                fl2.close()\n",
    "                fl3.close()\n",
    "                fl4.close()\n",
    "                fl5.close()\n",
    "                break \n",
    "        \n",
    "            \n",
    "except StopIteration:\n",
    "    print (\"end\")"
   ]
  },
  {
   "cell_type": "code",
   "execution_count": 34,
   "metadata": {},
   "outputs": [],
   "source": [
    "fl1 = open(\"label_1.txt\")\n",
    "fl2 = open(\"label_2.txt\")\n",
    "fl3 = open(\"label_3.txt\")\n",
    "fl4 = open(\"label_4.txt\")\n",
    "fl5 = open(\"label_5.txt\")\n",
    "arr1=[]\n",
    "arr2=[]\n",
    "arr3=[]\n",
    "arr4=[]\n",
    "arr5=[]\n",
    "\n",
    "while True:\n",
    "    line1 = fl1.readline()\n",
    "    if line1:\n",
    "        arr1.append(line1)\n",
    "    if not line1:\n",
    "        fl1.close()\n",
    "        break\n",
    "while True:\n",
    "    line1 = fl2.readline()\n",
    "    if line1:\n",
    "        arr2.append(line1)\n",
    "    if not line1:\n",
    "        fl2.close()\n",
    "        break\n",
    "while True:\n",
    "    line1 = fl3.readline()\n",
    "    if line1:\n",
    "        arr3.append(line1)\n",
    "    if not line1:\n",
    "        fl3.close()\n",
    "        break\n",
    "while True:\n",
    "    line1 = fl4.readline()\n",
    "    if line1:\n",
    "        arr4.append(line1)\n",
    "    if not line1:\n",
    "        fl4.close()\n",
    "        break\n",
    "while True:\n",
    "    line1 = fl5.readline()\n",
    "    if line1:\n",
    "        arr5.append(line1)\n",
    "    if not line1:\n",
    "        fl5.close()\n",
    "        break\n",
    "        \n",
    "train_arr = arr1[:int(len(arr1)*0.8)]\n",
    "train_arr.extend(arr2[:int(len(arr2)*0.8)])\n",
    "train_arr.extend(arr3[:int(len(arr3)*0.8)])\n",
    "train_arr.extend(arr4[:int(len(arr4)*0.8)])\n",
    "train_arr.extend(arr5[:int(len(arr5)*0.8)])\n",
    "\n",
    "# dev_arr = arr1[:int(len(arr1)*0.1)]\n",
    "# dev_arr.extend(arr2[:int(len(arr2)*0.1)])\n",
    "# dev_arr.extend(arr3[:int(len(arr3)*0.1)])\n",
    "# dev_arr.extend(arr4[:int(len(arr4)*0.1)])\n",
    "# dev_arr.extend(arr5[:int(len(arr5)*0.1)])\n",
    "\n",
    "test_arr = arr1[:int(len(arr1)*0.2)]\n",
    "test_arr.extend(arr2[:int(len(arr2)*0.2)])\n",
    "test_arr.extend(arr3[:int(len(arr3)*0.2)])\n",
    "test_arr.extend(arr4[:int(len(arr4)*0.2)])\n",
    "test_arr.extend(arr5[:int(len(arr5)*0.2)])\n",
    "\n",
    "f1 = open(\"train.txt\", \"w\")\n",
    "# f2 = open(\"dev.txt\", \"w\")\n",
    "f3 = open(\"test.txt\", \"w\")\n",
    "for item in train_arr :\n",
    "    f1.write(item)\n",
    "# for item in dev_arr :\n",
    "#     f2.write(item)\n",
    "for item in test_arr :\n",
    "    f3.write(item)\n",
    "    \n"
   ]
  },
  {
   "cell_type": "code",
   "execution_count": 41,
   "metadata": {},
   "outputs": [
    {
     "data": {
      "text/plain": [
       "Text(0, 0.5, 'Label')"
      ]
     },
     "execution_count": 41,
     "metadata": {},
     "output_type": "execute_result"
    },
    {
     "data": {
      "image/png": "[encoded data removed]",
      "text/plain": [
       "<Figure size 432x288 with 1 Axes>"
      ]
     },
     "metadata": {
      "needs_background": "light"
     },
     "output_type": "display_data"
    }
   ],
   "source": [
    "import pandas as pd\n",
    "# Read train data\n",
    "df = pd.read_csv('out.txt', sep='\\t', header=None, names=['truth', 'text'])\n",
    "df['truth'] = df['truth'].str.replace('__label__', '')\n",
    "df['truth'] = df['truth'].astype(int).astype('category')\n",
    "# df.head()\n",
    "import matplotlib.pyplot as plt\n",
    "ax = df['truth'].value_counts(sort=False).plot(kind='barh')\n",
    "ax.set_xlabel(\"Number of Samples in data Set\")\n",
    "ax.set_ylabel(\"Label\")"
   ]
  },
  {
   "cell_type": "code",
   "execution_count": null,
   "metadata": {},
   "outputs": [],
   "source": []
  }
 ],
 "metadata": {
  "kernelspec": {
   "display_name": "Python 3",
   "language": "python",
   "name": "python3"
  },
  "language_info": {
   "codemirror_mode": {
    "name": "ipython",
    "version": 3
   },
   "file_extension": ".py",
   "mimetype": "text/x-python",
   "name": "python",
   "nbconvert_exporter": "python",
   "pygments_lexer": "ipython3",
   "version": "3.7.5"
  }
 },
 "nbformat": 4,
 "nbformat_minor": 2
}
