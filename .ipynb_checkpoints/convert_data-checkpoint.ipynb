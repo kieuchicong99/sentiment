{
 "cells": [
  {
   "cell_type": "code",
   "execution_count": 10,
   "metadata": {},
   "outputs": [],
   "source": [
    "try:\n",
    "    with open('student_manual.train.txt') as f:\n",
    "        f1 = open(\"out.txt\", \"w\")\n",
    "        fl1 = open(\"label_1.txt\", \"w\")\n",
    "        fl2 = open(\"label_2.txt\", \"w\")\n",
    "        fl3 = open(\"label_3.txt\", \"w\")\n",
    "        fl4 = open(\"label_4.txt\", \"w\")\n",
    "        fl5 = open(\"label_5.txt\", \"w\")\n",
    "        while True:\n",
    "            line1 = f.readline().strip()\n",
    "            line2 = f.readline().strip()[4:]\n",
    "            if line1 and len(line1)>1 : \n",
    "                out = '__label__'+line2 +'\t'+line1+'\\n'\n",
    "                if line2 =='1':\n",
    "                    fl1.write(out)\n",
    "                if line2 =='2':\n",
    "                    fl2.write(out)\n",
    "                if line2 =='3':\n",
    "                    fl3.write(out)\n",
    "                if line2 =='4':\n",
    "                    fl4.write(out)\n",
    "                if line2 =='5':\n",
    "                    fl5.write(out)\n",
    "                f1.write(out)                \n",
    "#                 print(out)\n",
    "            if not line1: \n",
    "                f1.close()\n",
    "                f.close()\n",
    "                fl1.close()\n",
    "                fl2.close()\n",
    "                fl3.close()\n",
    "                fl4.close()\n",
    "                fl5.close()\n",
    "                break \n",
    "        \n",
    "            \n",
    "except StopIteration:\n",
    "    print (\"end\")"
   ]
  },
  {
   "cell_type": "code",
   "execution_count": 11,
   "metadata": {},
   "outputs": [
    {
     "ename": "ValueError",
     "evalue": "I/O operation on closed file.",
     "output_type": "error",
     "traceback": [
      "\u001b[0;31m---------------------------------------------------------------------------\u001b[0m",
      "\u001b[0;31mValueError\u001b[0m                                Traceback (most recent call last)",
      "\u001b[0;32m<ipython-input-11-9f387307db8d>\u001b[0m in \u001b[0;36m<module>\u001b[0;34m\u001b[0m\n\u001b[1;32m      9\u001b[0m         \u001b[0marr1\u001b[0m\u001b[0;34m=\u001b[0m\u001b[0;34m[\u001b[0m\u001b[0;34m]\u001b[0m\u001b[0;34m\u001b[0m\u001b[0;34m\u001b[0m\u001b[0m\n\u001b[1;32m     10\u001b[0m         \u001b[0;32mwhile\u001b[0m \u001b[0;32mTrue\u001b[0m\u001b[0;34m:\u001b[0m\u001b[0;34m\u001b[0m\u001b[0;34m\u001b[0m\u001b[0m\n\u001b[0;32m---> 11\u001b[0;31m             \u001b[0mline1\u001b[0m \u001b[0;34m=\u001b[0m \u001b[0mf\u001b[0m\u001b[0;34m.\u001b[0m\u001b[0mreadline\u001b[0m\u001b[0;34m(\u001b[0m\u001b[0;34m)\u001b[0m\u001b[0;34m.\u001b[0m\u001b[0mstrip\u001b[0m\u001b[0;34m(\u001b[0m\u001b[0;34m)\u001b[0m\u001b[0;34m\u001b[0m\u001b[0;34m\u001b[0m\u001b[0m\n\u001b[0m\u001b[1;32m     12\u001b[0m             \u001b[0;32mif\u001b[0m \u001b[0mline1\u001b[0m\u001b[0;34m:\u001b[0m\u001b[0;34m\u001b[0m\u001b[0;34m\u001b[0m\u001b[0m\n\u001b[1;32m     13\u001b[0m                 \u001b[0marr1\u001b[0m\u001b[0;34m.\u001b[0m\u001b[0mappend\u001b[0m\u001b[0;34m(\u001b[0m\u001b[0mline1\u001b[0m\u001b[0;34m)\u001b[0m\u001b[0;34m\u001b[0m\u001b[0;34m\u001b[0m\u001b[0m\n",
      "\u001b[0;31mValueError\u001b[0m: I/O operation on closed file."
     ]
    }
   ],
   "source": [
    "# fl1 = open(\"label_1.txt\")\n",
    "# fl2 = open(\"label_2.txt\")\n",
    "# fl3 = open(\"label_3.txt\")\n",
    "# fl4 = open(\"label_4.txt\")\n",
    "# fl5 = open(\"label_5.txt\")\n",
    "\n",
    "try:\n",
    "    with open('label_1.txt') as f:\n",
    "        arr1=[]\n",
    "        while True:\n",
    "            line1 = f.readline().strip()\n",
    "            if line1:\n",
    "                arr1.append(line1)\n",
    "            if not line1:\n",
    "                f.close()\n",
    "                break\n",
    "        \n",
    "except StopIteration:\n",
    "    print (\"end\")"
   ]
  },
  {
   "cell_type": "code",
   "execution_count": null,
   "metadata": {},
   "outputs": [],
   "source": []
  }
 ],
 "metadata": {
  "kernelspec": {
   "display_name": "Python 3",
   "language": "python",
   "name": "python3"
  },
  "language_info": {
   "codemirror_mode": {
    "name": "ipython",
    "version": 3
   },
   "file_extension": ".py",
   "mimetype": "text/x-python",
   "name": "python",
   "nbconvert_exporter": "python",
   "pygments_lexer": "ipython3",
   "version": "3.7.5"
  }
 },
 "nbformat": 4,
 "nbformat_minor": 2
}
